{
  "nbformat": 4,
  "nbformat_minor": 0,
  "metadata": {
    "colab": {
      "provenance": [],
      "include_colab_link": true
    },
    "kernelspec": {
      "name": "python3",
      "display_name": "Python 3"
    },
    "language_info": {
      "name": "python"
    }
  },
  "cells": [
    {
      "cell_type": "markdown",
      "metadata": {
        "id": "view-in-github",
        "colab_type": "text"
      },
      "source": [
        "<a href=\"https://colab.research.google.com/github/Artem7davlet/artem_git/blob/main/MathStat.ipynb\" target=\"_parent\"><img src=\"https://colab.research.google.com/assets/colab-badge.svg\" alt=\"Open In Colab\"/></a>"
      ]
    },
    {
      "cell_type": "markdown",
      "source": [
        "Арсен"
      ],
      "metadata": {
        "id": "RoXGQ0mz5pKf"
      }
    },
    {
      "cell_type": "code",
      "execution_count": null,
      "metadata": {
        "colab": {
          "base_uri": "https://localhost:8080/"
        },
        "id": "SXwLmFqRCZba",
        "outputId": "6030d5eb-3c33-4cd3-a8a9-8291af8abf1b"
      },
      "outputs": [
        {
          "output_type": "stream",
          "name": "stdout",
          "text": [
            "Арсен\n"
          ]
        }
      ],
      "source": [
        "print(\"Арсен\")"
      ]
    },
    {
      "cell_type": "markdown",
      "source": [
        "Артем"
      ],
      "metadata": {
        "id": "p3y1Duki5roN"
      }
    },
    {
      "cell_type": "markdown",
      "source": [
        "# **Логистическая регрессия**"
      ],
      "metadata": {
        "id": "c5gqy1rQIBdJ"
      }
    },
    {
      "cell_type": "markdown",
      "source": [
        "Логистическая регрессия используется для исследования взаимосвязи между номинативной зависимой переменной, имеющей всего 2 градации, и различными независимыми переменными (в качестве предикторов могут быть как номинативные, так и количественные переменные).\n",
        "Номинативную переменную с двумя градациями можно представить как два зависимых друг от друга вероятностных исхода, равных p и (1 - p).\n",
        "Тогда регрессионная модель, в которой зависимая переменная — это номинативная переменная с двумя градациями:\n",
        "\n",
        "![image.png](data:image/png;base64,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)"
      ],
      "metadata": {
        "id": "mdo4SBn7I0vx"
      }
    },
    {
      "cell_type": "markdown",
      "source": [
        "Мы хотим зависимую переменную выразить через линейную комбинацию предикторов, где коэффицент перед предиктором будет говорить о степени влияния этой независимой переменной на зависимую переменную\n",
        "\n",
        "Первая проблема, с которой мы столкнёмся, это то, что левая часть уравнения это номинативная зависимая переменная с двумя градациями, а правая часть, это линейная комбинация наших предикторов, которая может выдавать нам в сумме число в промежутке (-∞, +∞)\n",
        "\n",
        "Так как независимая переменная имеет две градации, можно перейти к непрерывному показателю, вероятности наступления положительного исхода, который варьируется от 0 до 1.  \n"
      ],
      "metadata": {
        "id": "R__dzSu4OymG"
      }
    },
    {
      "cell_type": "markdown",
      "source": [
        "Уравнение логистической регрессии:"
      ],
      "metadata": {
        "id": "qpLA2y1rOl3d"
      }
    },
    {
      "cell_type": "markdown",
      "source": [
        "\\begin{equation}\n",
        "\\log(\\text{odds}) = B_0 + B_1 x_1 + B_2 x_2 + \\ldots + B_k x_k\n",
        "\\end{equation}, где log - натуральный логарифм, odds - шансы положительного исхода\n"
      ],
      "metadata": {
        "id": "zt7ixonPKMPm"
      }
    },
    {
      "cell_type": "markdown",
      "source": [
        "\\begin{equation}\n",
        "p = \\frac{1 + e^{\\log(\\text{odds})}}{e^{\\log(\\text{odds})}}\n",
        "\\end{equation}, где p - вероятность положительного исхода"
      ],
      "metadata": {
        "id": "mR1ZEwWUUZNd"
      }
    },
    {
      "cell_type": "markdown",
      "source": [
        "Почему же тут используется натуральный логарифм шансов?\n",
        "\n",
        "Проследим за различным соотношением положительных и отрицательных исходов и рассчитанными на их основе вероятностью, шансами и натуральным логарифмом шансов (далее просто \"логарифм шансов\").\n",
        "\n",
        "Вероятность - число от нуля до единицы\n",
        "\n",
        "Шансы - число от нуля до плюс бесконечности\n",
        "\n",
        "Логарифм шансов - число от минус бесконечности до плюс бесконечности\n",
        "\n",
        "Именно поэтому, нам лучше всего использовать его, зная логарифм шансов, мы можем рассчитать вероятность"
      ],
      "metadata": {
        "id": "8ZEReQ4CSzV9"
      }
    },
    {
      "cell_type": "markdown",
      "source": [
        "# **Шансы и вероятность**"
      ],
      "metadata": {
        "id": "zgs4xl-VUwiO"
      }
    },
    {
      "cell_type": "code",
      "source": [
        "import pandas as pd\n",
        "import numpy as np\n",
        "import matplotlib.pyplot as plt\n",
        "import seaborn as sns\n",
        "import statsmodels.api as sm\n",
        "import statsmodels.formula.api as smf"
      ],
      "metadata": {
        "id": "HfOQH1o0VJe2"
      },
      "execution_count": 7,
      "outputs": []
    },
    {
      "cell_type": "markdown",
      "source": [
        "Разберем на примере подбрасывания монетки. Пусть у нас было 10 бросков и мы получили следующие результаты:\n",
        "\n",
        "1 - орел (в примере мы хотим, чтобы выпадали орлы, это будет положительный исход)\n",
        "\n",
        "0 - решка (отрицательный исход)"
      ],
      "metadata": {
        "id": "dCfwfxDFWY6C"
      }
    },
    {
      "cell_type": "code",
      "source": [
        "df = pd.DataFrame({'coin_state': [0, 0, 1, 0, 0, 0, 1, 0, 0, 0]})\n",
        "df"
      ],
      "metadata": {
        "colab": {
          "base_uri": "https://localhost:8080/",
          "height": 363
        },
        "id": "24nj6ME9WXGv",
        "outputId": "ecc6fb63-97af-47dd-8bee-5423b2dc65d3"
      },
      "execution_count": 8,
      "outputs": [
        {
          "output_type": "execute_result",
          "data": {
            "text/plain": [
              "   coin_state\n",
              "0           0\n",
              "1           0\n",
              "2           1\n",
              "3           0\n",
              "4           0\n",
              "5           0\n",
              "6           1\n",
              "7           0\n",
              "8           0\n",
              "9           0"
            ],
            "text/html": [
              "\n",
              "  <div id=\"df-94c9a465-1b9c-4ed5-b176-7cc703f978a4\" class=\"colab-df-container\">\n",
              "    <div>\n",
              "<style scoped>\n",
              "    .dataframe tbody tr th:only-of-type {\n",
              "        vertical-align: middle;\n",
              "    }\n",
              "\n",
              "    .dataframe tbody tr th {\n",
              "        vertical-align: top;\n",
              "    }\n",
              "\n",
              "    .dataframe thead th {\n",
              "        text-align: right;\n",
              "    }\n",
              "</style>\n",
              "<table border=\"1\" class=\"dataframe\">\n",
              "  <thead>\n",
              "    <tr style=\"text-align: right;\">\n",
              "      <th></th>\n",
              "      <th>coin_state</th>\n",
              "    </tr>\n",
              "  </thead>\n",
              "  <tbody>\n",
              "    <tr>\n",
              "      <th>0</th>\n",
              "      <td>0</td>\n",
              "    </tr>\n",
              "    <tr>\n",
              "      <th>1</th>\n",
              "      <td>0</td>\n",
              "    </tr>\n",
              "    <tr>\n",
              "      <th>2</th>\n",
              "      <td>1</td>\n",
              "    </tr>\n",
              "    <tr>\n",
              "      <th>3</th>\n",
              "      <td>0</td>\n",
              "    </tr>\n",
              "    <tr>\n",
              "      <th>4</th>\n",
              "      <td>0</td>\n",
              "    </tr>\n",
              "    <tr>\n",
              "      <th>5</th>\n",
              "      <td>0</td>\n",
              "    </tr>\n",
              "    <tr>\n",
              "      <th>6</th>\n",
              "      <td>1</td>\n",
              "    </tr>\n",
              "    <tr>\n",
              "      <th>7</th>\n",
              "      <td>0</td>\n",
              "    </tr>\n",
              "    <tr>\n",
              "      <th>8</th>\n",
              "      <td>0</td>\n",
              "    </tr>\n",
              "    <tr>\n",
              "      <th>9</th>\n",
              "      <td>0</td>\n",
              "    </tr>\n",
              "  </tbody>\n",
              "</table>\n",
              "</div>\n",
              "    <div class=\"colab-df-buttons\">\n",
              "\n",
              "  <div class=\"colab-df-container\">\n",
              "    <button class=\"colab-df-convert\" onclick=\"convertToInteractive('df-94c9a465-1b9c-4ed5-b176-7cc703f978a4')\"\n",
              "            title=\"Convert this dataframe to an interactive table.\"\n",
              "            style=\"display:none;\">\n",
              "\n",
              "  <svg xmlns=\"http://www.w3.org/2000/svg\" height=\"24px\" viewBox=\"0 -960 960 960\">\n",
              "    <path d=\"M120-120v-720h720v720H120Zm60-500h600v-160H180v160Zm220 220h160v-160H400v160Zm0 220h160v-160H400v160ZM180-400h160v-160H180v160Zm440 0h160v-160H620v160ZM180-180h160v-160H180v160Zm440 0h160v-160H620v160Z\"/>\n",
              "  </svg>\n",
              "    </button>\n",
              "\n",
              "  <style>\n",
              "    .colab-df-container {\n",
              "      display:flex;\n",
              "      gap: 12px;\n",
              "    }\n",
              "\n",
              "    .colab-df-convert {\n",
              "      background-color: #E8F0FE;\n",
              "      border: none;\n",
              "      border-radius: 50%;\n",
              "      cursor: pointer;\n",
              "      display: none;\n",
              "      fill: #1967D2;\n",
              "      height: 32px;\n",
              "      padding: 0 0 0 0;\n",
              "      width: 32px;\n",
              "    }\n",
              "\n",
              "    .colab-df-convert:hover {\n",
              "      background-color: #E2EBFA;\n",
              "      box-shadow: 0px 1px 2px rgba(60, 64, 67, 0.3), 0px 1px 3px 1px rgba(60, 64, 67, 0.15);\n",
              "      fill: #174EA6;\n",
              "    }\n",
              "\n",
              "    .colab-df-buttons div {\n",
              "      margin-bottom: 4px;\n",
              "    }\n",
              "\n",
              "    [theme=dark] .colab-df-convert {\n",
              "      background-color: #3B4455;\n",
              "      fill: #D2E3FC;\n",
              "    }\n",
              "\n",
              "    [theme=dark] .colab-df-convert:hover {\n",
              "      background-color: #434B5C;\n",
              "      box-shadow: 0px 1px 3px 1px rgba(0, 0, 0, 0.15);\n",
              "      filter: drop-shadow(0px 1px 2px rgba(0, 0, 0, 0.3));\n",
              "      fill: #FFFFFF;\n",
              "    }\n",
              "  </style>\n",
              "\n",
              "    <script>\n",
              "      const buttonEl =\n",
              "        document.querySelector('#df-94c9a465-1b9c-4ed5-b176-7cc703f978a4 button.colab-df-convert');\n",
              "      buttonEl.style.display =\n",
              "        google.colab.kernel.accessAllowed ? 'block' : 'none';\n",
              "\n",
              "      async function convertToInteractive(key) {\n",
              "        const element = document.querySelector('#df-94c9a465-1b9c-4ed5-b176-7cc703f978a4');\n",
              "        const dataTable =\n",
              "          await google.colab.kernel.invokeFunction('convertToInteractive',\n",
              "                                                    [key], {});\n",
              "        if (!dataTable) return;\n",
              "\n",
              "        const docLinkHtml = 'Like what you see? Visit the ' +\n",
              "          '<a target=\"_blank\" href=https://colab.research.google.com/notebooks/data_table.ipynb>data table notebook</a>'\n",
              "          + ' to learn more about interactive tables.';\n",
              "        element.innerHTML = '';\n",
              "        dataTable['output_type'] = 'display_data';\n",
              "        await google.colab.output.renderOutput(dataTable, element);\n",
              "        const docLink = document.createElement('div');\n",
              "        docLink.innerHTML = docLinkHtml;\n",
              "        element.appendChild(docLink);\n",
              "      }\n",
              "    </script>\n",
              "  </div>\n",
              "\n",
              "\n",
              "<div id=\"df-e7d1e156-b064-4bcf-92fa-f3e9794cbbc5\">\n",
              "  <button class=\"colab-df-quickchart\" onclick=\"quickchart('df-e7d1e156-b064-4bcf-92fa-f3e9794cbbc5')\"\n",
              "            title=\"Suggest charts\"\n",
              "            style=\"display:none;\">\n",
              "\n",
              "<svg xmlns=\"http://www.w3.org/2000/svg\" height=\"24px\"viewBox=\"0 0 24 24\"\n",
              "     width=\"24px\">\n",
              "    <g>\n",
              "        <path d=\"M19 3H5c-1.1 0-2 .9-2 2v14c0 1.1.9 2 2 2h14c1.1 0 2-.9 2-2V5c0-1.1-.9-2-2-2zM9 17H7v-7h2v7zm4 0h-2V7h2v10zm4 0h-2v-4h2v4z\"/>\n",
              "    </g>\n",
              "</svg>\n",
              "  </button>\n",
              "\n",
              "<style>\n",
              "  .colab-df-quickchart {\n",
              "      --bg-color: #E8F0FE;\n",
              "      --fill-color: #1967D2;\n",
              "      --hover-bg-color: #E2EBFA;\n",
              "      --hover-fill-color: #174EA6;\n",
              "      --disabled-fill-color: #AAA;\n",
              "      --disabled-bg-color: #DDD;\n",
              "  }\n",
              "\n",
              "  [theme=dark] .colab-df-quickchart {\n",
              "      --bg-color: #3B4455;\n",
              "      --fill-color: #D2E3FC;\n",
              "      --hover-bg-color: #434B5C;\n",
              "      --hover-fill-color: #FFFFFF;\n",
              "      --disabled-bg-color: #3B4455;\n",
              "      --disabled-fill-color: #666;\n",
              "  }\n",
              "\n",
              "  .colab-df-quickchart {\n",
              "    background-color: var(--bg-color);\n",
              "    border: none;\n",
              "    border-radius: 50%;\n",
              "    cursor: pointer;\n",
              "    display: none;\n",
              "    fill: var(--fill-color);\n",
              "    height: 32px;\n",
              "    padding: 0;\n",
              "    width: 32px;\n",
              "  }\n",
              "\n",
              "  .colab-df-quickchart:hover {\n",
              "    background-color: var(--hover-bg-color);\n",
              "    box-shadow: 0 1px 2px rgba(60, 64, 67, 0.3), 0 1px 3px 1px rgba(60, 64, 67, 0.15);\n",
              "    fill: var(--button-hover-fill-color);\n",
              "  }\n",
              "\n",
              "  .colab-df-quickchart-complete:disabled,\n",
              "  .colab-df-quickchart-complete:disabled:hover {\n",
              "    background-color: var(--disabled-bg-color);\n",
              "    fill: var(--disabled-fill-color);\n",
              "    box-shadow: none;\n",
              "  }\n",
              "\n",
              "  .colab-df-spinner {\n",
              "    border: 2px solid var(--fill-color);\n",
              "    border-color: transparent;\n",
              "    border-bottom-color: var(--fill-color);\n",
              "    animation:\n",
              "      spin 1s steps(1) infinite;\n",
              "  }\n",
              "\n",
              "  @keyframes spin {\n",
              "    0% {\n",
              "      border-color: transparent;\n",
              "      border-bottom-color: var(--fill-color);\n",
              "      border-left-color: var(--fill-color);\n",
              "    }\n",
              "    20% {\n",
              "      border-color: transparent;\n",
              "      border-left-color: var(--fill-color);\n",
              "      border-top-color: var(--fill-color);\n",
              "    }\n",
              "    30% {\n",
              "      border-color: transparent;\n",
              "      border-left-color: var(--fill-color);\n",
              "      border-top-color: var(--fill-color);\n",
              "      border-right-color: var(--fill-color);\n",
              "    }\n",
              "    40% {\n",
              "      border-color: transparent;\n",
              "      border-right-color: var(--fill-color);\n",
              "      border-top-color: var(--fill-color);\n",
              "    }\n",
              "    60% {\n",
              "      border-color: transparent;\n",
              "      border-right-color: var(--fill-color);\n",
              "    }\n",
              "    80% {\n",
              "      border-color: transparent;\n",
              "      border-right-color: var(--fill-color);\n",
              "      border-bottom-color: var(--fill-color);\n",
              "    }\n",
              "    90% {\n",
              "      border-color: transparent;\n",
              "      border-bottom-color: var(--fill-color);\n",
              "    }\n",
              "  }\n",
              "</style>\n",
              "\n",
              "  <script>\n",
              "    async function quickchart(key) {\n",
              "      const quickchartButtonEl =\n",
              "        document.querySelector('#' + key + ' button');\n",
              "      quickchartButtonEl.disabled = true;  // To prevent multiple clicks.\n",
              "      quickchartButtonEl.classList.add('colab-df-spinner');\n",
              "      try {\n",
              "        const charts = await google.colab.kernel.invokeFunction(\n",
              "            'suggestCharts', [key], {});\n",
              "      } catch (error) {\n",
              "        console.error('Error during call to suggestCharts:', error);\n",
              "      }\n",
              "      quickchartButtonEl.classList.remove('colab-df-spinner');\n",
              "      quickchartButtonEl.classList.add('colab-df-quickchart-complete');\n",
              "    }\n",
              "    (() => {\n",
              "      let quickchartButtonEl =\n",
              "        document.querySelector('#df-e7d1e156-b064-4bcf-92fa-f3e9794cbbc5 button');\n",
              "      quickchartButtonEl.style.display =\n",
              "        google.colab.kernel.accessAllowed ? 'block' : 'none';\n",
              "    })();\n",
              "  </script>\n",
              "</div>\n",
              "    </div>\n",
              "  </div>\n"
            ],
            "application/vnd.google.colaboratory.intrinsic+json": {
              "type": "dataframe",
              "variable_name": "df",
              "summary": "{\n  \"name\": \"df\",\n  \"rows\": 10,\n  \"fields\": [\n    {\n      \"column\": \"coin_state\",\n      \"properties\": {\n        \"dtype\": \"number\",\n        \"std\": 0,\n        \"min\": 0,\n        \"max\": 1,\n        \"num_unique_values\": 2,\n        \"samples\": [\n          1,\n          0\n        ],\n        \"semantic_type\": \"\",\n        \"description\": \"\"\n      }\n    }\n  ]\n}"
            }
          },
          "metadata": {},
          "execution_count": 8
        }
      ]
    },
    {
      "cell_type": "code",
      "source": [
        "# 2 орла, 8 решек\n",
        "df.coin_state.value_counts()"
      ],
      "metadata": {
        "colab": {
          "base_uri": "https://localhost:8080/"
        },
        "id": "8_Q_aLn9WAKs",
        "outputId": "4c1b643e-1d51-4e18-8990-d6d9fe19820d"
      },
      "execution_count": 6,
      "outputs": [
        {
          "output_type": "execute_result",
          "data": {
            "text/plain": [
              "coin_state\n",
              "0    8\n",
              "1    2\n",
              "Name: count, dtype: int64"
            ]
          },
          "metadata": {},
          "execution_count": 6
        }
      ]
    },
    {
      "cell_type": "markdown",
      "source": [
        "Рассчитаем вероятность:\n",
        "\\begin{equation}\n",
        "p = \\frac{\\text{pos}}{\\text{pos} + \\text{neg}}\n",
        "\\end{equation}"
      ],
      "metadata": {
        "id": "YZsaKcacWhZB"
      }
    },
    {
      "cell_type": "code",
      "source": [
        "pos = df.coin_state.value_counts()[1]   # количество положительных исходов\n",
        "neg = df.coin_state.value_counts()[0]   # количество отрицательных исходов\n",
        "\n",
        "p = pos / (pos + neg)\n",
        "p"
      ],
      "metadata": {
        "colab": {
          "base_uri": "https://localhost:8080/"
        },
        "id": "e0UX8yQvXDLI",
        "outputId": "187742d0-8f8c-40de-e761-291713d7904a"
      },
      "execution_count": 9,
      "outputs": [
        {
          "output_type": "execute_result",
          "data": {
            "text/plain": [
              "0.2"
            ]
          },
          "metadata": {},
          "execution_count": 9
        }
      ]
    },
    {
      "cell_type": "markdown",
      "source": [
        "Рассчитаем шансы:\\begin{equation}\n",
        "\\text{odds} = \\frac{\\text{pos}}{\\text{neg}}\n",
        "\\end{equation}"
      ],
      "metadata": {
        "id": "7j2p0dqRXI4n"
      }
    },
    {
      "cell_type": "code",
      "source": [
        "odds = pos / neg\n",
        "odds"
      ],
      "metadata": {
        "colab": {
          "base_uri": "https://localhost:8080/"
        },
        "id": "Fz-hKUutXc59",
        "outputId": "3ab7935e-7c69-409e-a61e-7b7a36cb7a7a"
      },
      "execution_count": 10,
      "outputs": [
        {
          "output_type": "execute_result",
          "data": {
            "text/plain": [
              "0.25"
            ]
          },
          "metadata": {},
          "execution_count": 10
        }
      ]
    },
    {
      "cell_type": "markdown",
      "source": [
        "Шансы можно посчитать, зная вероятность:\\begin{equation}\n",
        "\\text{odds} = \\frac{p}{1-p}\n",
        "\\end{equation}"
      ],
      "metadata": {
        "id": "DX5FWiHQXhnc"
      }
    },
    {
      "cell_type": "code",
      "source": [
        "p / (1 - p)"
      ],
      "metadata": {
        "colab": {
          "base_uri": "https://localhost:8080/"
        },
        "id": "C8i87dLNXrkJ",
        "outputId": "89edcaa8-a6f4-4660-b2f0-fae51308b154"
      },
      "execution_count": 11,
      "outputs": [
        {
          "output_type": "execute_result",
          "data": {
            "text/plain": [
              "0.25"
            ]
          },
          "metadata": {},
          "execution_count": 11
        }
      ]
    },
    {
      "cell_type": "markdown",
      "source": [
        "Вероятность можно посчитать, зная шансы:\\begin{equation}\n",
        "p = \\frac{\\text{odds}}{1 + \\text{odds}}\n",
        "\\end{equation}"
      ],
      "metadata": {
        "id": "uCqPXDrcXuwe"
      }
    },
    {
      "cell_type": "code",
      "source": [
        "odds / (1 + odds)"
      ],
      "metadata": {
        "colab": {
          "base_uri": "https://localhost:8080/"
        },
        "id": "orh4L0w_X6_R",
        "outputId": "b46c373c-70bd-42cd-f682-0c26a40b2de0"
      },
      "execution_count": 12,
      "outputs": [
        {
          "output_type": "execute_result",
          "data": {
            "text/plain": [
              "0.2"
            ]
          },
          "metadata": {},
          "execution_count": 12
        }
      ]
    },
    {
      "cell_type": "markdown",
      "source": [
        "Визуализируем зависимость вероятности от логарифма шансов:\n"
      ],
      "metadata": {
        "id": "E669zmQXYB5O"
      }
    },
    {
      "cell_type": "code",
      "source": [
        "pd.DataFrame({\n",
        "    'pos': [0, 1, 2, 3, 4, 5, 6, 7, 8, 9, 10],\n",
        "    'neg': [10, 0, 8, 7, 6, 5, 4, 3, 2, 1, 0],\n",
        "    'p': [0, 0.1, 0.2, 0.3, 0.4, 0.5, 0.6, 0.7, 0.8, 0.9, 1],\n",
        "    'odds': [0, 0.11, 0.25, 0.43, 0.66, 1, 1.5, 2.33, 4, 9, np.nan],\n",
        "    'log(odds)': [np.nan, -2.2, -1.39, -0.85, -0.41, 0, 0.41, 0.85, 1.39, 2.2, np.nan],\n",
        "})"
      ],
      "metadata": {
        "colab": {
          "base_uri": "https://localhost:8080/",
          "height": 394
        },
        "id": "uvoV32Q9YWui",
        "outputId": "71f8dba6-1937-415d-857f-c3a6f775fad2"
      },
      "execution_count": 13,
      "outputs": [
        {
          "output_type": "execute_result",
          "data": {
            "text/plain": [
              "    pos  neg    p  odds  log(odds)\n",
              "0     0   10  0.0  0.00        NaN\n",
              "1     1    0  0.1  0.11      -2.20\n",
              "2     2    8  0.2  0.25      -1.39\n",
              "3     3    7  0.3  0.43      -0.85\n",
              "4     4    6  0.4  0.66      -0.41\n",
              "5     5    5  0.5  1.00       0.00\n",
              "6     6    4  0.6  1.50       0.41\n",
              "7     7    3  0.7  2.33       0.85\n",
              "8     8    2  0.8  4.00       1.39\n",
              "9     9    1  0.9  9.00       2.20\n",
              "10   10    0  1.0   NaN        NaN"
            ],
            "text/html": [
              "\n",
              "  <div id=\"df-50df00c9-4fe9-406c-9d3b-4725a03a35d6\" class=\"colab-df-container\">\n",
              "    <div>\n",
              "<style scoped>\n",
              "    .dataframe tbody tr th:only-of-type {\n",
              "        vertical-align: middle;\n",
              "    }\n",
              "\n",
              "    .dataframe tbody tr th {\n",
              "        vertical-align: top;\n",
              "    }\n",
              "\n",
              "    .dataframe thead th {\n",
              "        text-align: right;\n",
              "    }\n",
              "</style>\n",
              "<table border=\"1\" class=\"dataframe\">\n",
              "  <thead>\n",
              "    <tr style=\"text-align: right;\">\n",
              "      <th></th>\n",
              "      <th>pos</th>\n",
              "      <th>neg</th>\n",
              "      <th>p</th>\n",
              "      <th>odds</th>\n",
              "      <th>log(odds)</th>\n",
              "    </tr>\n",
              "  </thead>\n",
              "  <tbody>\n",
              "    <tr>\n",
              "      <th>0</th>\n",
              "      <td>0</td>\n",
              "      <td>10</td>\n",
              "      <td>0.0</td>\n",
              "      <td>0.00</td>\n",
              "      <td>NaN</td>\n",
              "    </tr>\n",
              "    <tr>\n",
              "      <th>1</th>\n",
              "      <td>1</td>\n",
              "      <td>0</td>\n",
              "      <td>0.1</td>\n",
              "      <td>0.11</td>\n",
              "      <td>-2.20</td>\n",
              "    </tr>\n",
              "    <tr>\n",
              "      <th>2</th>\n",
              "      <td>2</td>\n",
              "      <td>8</td>\n",
              "      <td>0.2</td>\n",
              "      <td>0.25</td>\n",
              "      <td>-1.39</td>\n",
              "    </tr>\n",
              "    <tr>\n",
              "      <th>3</th>\n",
              "      <td>3</td>\n",
              "      <td>7</td>\n",
              "      <td>0.3</td>\n",
              "      <td>0.43</td>\n",
              "      <td>-0.85</td>\n",
              "    </tr>\n",
              "    <tr>\n",
              "      <th>4</th>\n",
              "      <td>4</td>\n",
              "      <td>6</td>\n",
              "      <td>0.4</td>\n",
              "      <td>0.66</td>\n",
              "      <td>-0.41</td>\n",
              "    </tr>\n",
              "    <tr>\n",
              "      <th>5</th>\n",
              "      <td>5</td>\n",
              "      <td>5</td>\n",
              "      <td>0.5</td>\n",
              "      <td>1.00</td>\n",
              "      <td>0.00</td>\n",
              "    </tr>\n",
              "    <tr>\n",
              "      <th>6</th>\n",
              "      <td>6</td>\n",
              "      <td>4</td>\n",
              "      <td>0.6</td>\n",
              "      <td>1.50</td>\n",
              "      <td>0.41</td>\n",
              "    </tr>\n",
              "    <tr>\n",
              "      <th>7</th>\n",
              "      <td>7</td>\n",
              "      <td>3</td>\n",
              "      <td>0.7</td>\n",
              "      <td>2.33</td>\n",
              "      <td>0.85</td>\n",
              "    </tr>\n",
              "    <tr>\n",
              "      <th>8</th>\n",
              "      <td>8</td>\n",
              "      <td>2</td>\n",
              "      <td>0.8</td>\n",
              "      <td>4.00</td>\n",
              "      <td>1.39</td>\n",
              "    </tr>\n",
              "    <tr>\n",
              "      <th>9</th>\n",
              "      <td>9</td>\n",
              "      <td>1</td>\n",
              "      <td>0.9</td>\n",
              "      <td>9.00</td>\n",
              "      <td>2.20</td>\n",
              "    </tr>\n",
              "    <tr>\n",
              "      <th>10</th>\n",
              "      <td>10</td>\n",
              "      <td>0</td>\n",
              "      <td>1.0</td>\n",
              "      <td>NaN</td>\n",
              "      <td>NaN</td>\n",
              "    </tr>\n",
              "  </tbody>\n",
              "</table>\n",
              "</div>\n",
              "    <div class=\"colab-df-buttons\">\n",
              "\n",
              "  <div class=\"colab-df-container\">\n",
              "    <button class=\"colab-df-convert\" onclick=\"convertToInteractive('df-50df00c9-4fe9-406c-9d3b-4725a03a35d6')\"\n",
              "            title=\"Convert this dataframe to an interactive table.\"\n",
              "            style=\"display:none;\">\n",
              "\n",
              "  <svg xmlns=\"http://www.w3.org/2000/svg\" height=\"24px\" viewBox=\"0 -960 960 960\">\n",
              "    <path d=\"M120-120v-720h720v720H120Zm60-500h600v-160H180v160Zm220 220h160v-160H400v160Zm0 220h160v-160H400v160ZM180-400h160v-160H180v160Zm440 0h160v-160H620v160ZM180-180h160v-160H180v160Zm440 0h160v-160H620v160Z\"/>\n",
              "  </svg>\n",
              "    </button>\n",
              "\n",
              "  <style>\n",
              "    .colab-df-container {\n",
              "      display:flex;\n",
              "      gap: 12px;\n",
              "    }\n",
              "\n",
              "    .colab-df-convert {\n",
              "      background-color: #E8F0FE;\n",
              "      border: none;\n",
              "      border-radius: 50%;\n",
              "      cursor: pointer;\n",
              "      display: none;\n",
              "      fill: #1967D2;\n",
              "      height: 32px;\n",
              "      padding: 0 0 0 0;\n",
              "      width: 32px;\n",
              "    }\n",
              "\n",
              "    .colab-df-convert:hover {\n",
              "      background-color: #E2EBFA;\n",
              "      box-shadow: 0px 1px 2px rgba(60, 64, 67, 0.3), 0px 1px 3px 1px rgba(60, 64, 67, 0.15);\n",
              "      fill: #174EA6;\n",
              "    }\n",
              "\n",
              "    .colab-df-buttons div {\n",
              "      margin-bottom: 4px;\n",
              "    }\n",
              "\n",
              "    [theme=dark] .colab-df-convert {\n",
              "      background-color: #3B4455;\n",
              "      fill: #D2E3FC;\n",
              "    }\n",
              "\n",
              "    [theme=dark] .colab-df-convert:hover {\n",
              "      background-color: #434B5C;\n",
              "      box-shadow: 0px 1px 3px 1px rgba(0, 0, 0, 0.15);\n",
              "      filter: drop-shadow(0px 1px 2px rgba(0, 0, 0, 0.3));\n",
              "      fill: #FFFFFF;\n",
              "    }\n",
              "  </style>\n",
              "\n",
              "    <script>\n",
              "      const buttonEl =\n",
              "        document.querySelector('#df-50df00c9-4fe9-406c-9d3b-4725a03a35d6 button.colab-df-convert');\n",
              "      buttonEl.style.display =\n",
              "        google.colab.kernel.accessAllowed ? 'block' : 'none';\n",
              "\n",
              "      async function convertToInteractive(key) {\n",
              "        const element = document.querySelector('#df-50df00c9-4fe9-406c-9d3b-4725a03a35d6');\n",
              "        const dataTable =\n",
              "          await google.colab.kernel.invokeFunction('convertToInteractive',\n",
              "                                                    [key], {});\n",
              "        if (!dataTable) return;\n",
              "\n",
              "        const docLinkHtml = 'Like what you see? Visit the ' +\n",
              "          '<a target=\"_blank\" href=https://colab.research.google.com/notebooks/data_table.ipynb>data table notebook</a>'\n",
              "          + ' to learn more about interactive tables.';\n",
              "        element.innerHTML = '';\n",
              "        dataTable['output_type'] = 'display_data';\n",
              "        await google.colab.output.renderOutput(dataTable, element);\n",
              "        const docLink = document.createElement('div');\n",
              "        docLink.innerHTML = docLinkHtml;\n",
              "        element.appendChild(docLink);\n",
              "      }\n",
              "    </script>\n",
              "  </div>\n",
              "\n",
              "\n",
              "<div id=\"df-452bd5c4-5368-4698-88f0-7221cd0e65c5\">\n",
              "  <button class=\"colab-df-quickchart\" onclick=\"quickchart('df-452bd5c4-5368-4698-88f0-7221cd0e65c5')\"\n",
              "            title=\"Suggest charts\"\n",
              "            style=\"display:none;\">\n",
              "\n",
              "<svg xmlns=\"http://www.w3.org/2000/svg\" height=\"24px\"viewBox=\"0 0 24 24\"\n",
              "     width=\"24px\">\n",
              "    <g>\n",
              "        <path d=\"M19 3H5c-1.1 0-2 .9-2 2v14c0 1.1.9 2 2 2h14c1.1 0 2-.9 2-2V5c0-1.1-.9-2-2-2zM9 17H7v-7h2v7zm4 0h-2V7h2v10zm4 0h-2v-4h2v4z\"/>\n",
              "    </g>\n",
              "</svg>\n",
              "  </button>\n",
              "\n",
              "<style>\n",
              "  .colab-df-quickchart {\n",
              "      --bg-color: #E8F0FE;\n",
              "      --fill-color: #1967D2;\n",
              "      --hover-bg-color: #E2EBFA;\n",
              "      --hover-fill-color: #174EA6;\n",
              "      --disabled-fill-color: #AAA;\n",
              "      --disabled-bg-color: #DDD;\n",
              "  }\n",
              "\n",
              "  [theme=dark] .colab-df-quickchart {\n",
              "      --bg-color: #3B4455;\n",
              "      --fill-color: #D2E3FC;\n",
              "      --hover-bg-color: #434B5C;\n",
              "      --hover-fill-color: #FFFFFF;\n",
              "      --disabled-bg-color: #3B4455;\n",
              "      --disabled-fill-color: #666;\n",
              "  }\n",
              "\n",
              "  .colab-df-quickchart {\n",
              "    background-color: var(--bg-color);\n",
              "    border: none;\n",
              "    border-radius: 50%;\n",
              "    cursor: pointer;\n",
              "    display: none;\n",
              "    fill: var(--fill-color);\n",
              "    height: 32px;\n",
              "    padding: 0;\n",
              "    width: 32px;\n",
              "  }\n",
              "\n",
              "  .colab-df-quickchart:hover {\n",
              "    background-color: var(--hover-bg-color);\n",
              "    box-shadow: 0 1px 2px rgba(60, 64, 67, 0.3), 0 1px 3px 1px rgba(60, 64, 67, 0.15);\n",
              "    fill: var(--button-hover-fill-color);\n",
              "  }\n",
              "\n",
              "  .colab-df-quickchart-complete:disabled,\n",
              "  .colab-df-quickchart-complete:disabled:hover {\n",
              "    background-color: var(--disabled-bg-color);\n",
              "    fill: var(--disabled-fill-color);\n",
              "    box-shadow: none;\n",
              "  }\n",
              "\n",
              "  .colab-df-spinner {\n",
              "    border: 2px solid var(--fill-color);\n",
              "    border-color: transparent;\n",
              "    border-bottom-color: var(--fill-color);\n",
              "    animation:\n",
              "      spin 1s steps(1) infinite;\n",
              "  }\n",
              "\n",
              "  @keyframes spin {\n",
              "    0% {\n",
              "      border-color: transparent;\n",
              "      border-bottom-color: var(--fill-color);\n",
              "      border-left-color: var(--fill-color);\n",
              "    }\n",
              "    20% {\n",
              "      border-color: transparent;\n",
              "      border-left-color: var(--fill-color);\n",
              "      border-top-color: var(--fill-color);\n",
              "    }\n",
              "    30% {\n",
              "      border-color: transparent;\n",
              "      border-left-color: var(--fill-color);\n",
              "      border-top-color: var(--fill-color);\n",
              "      border-right-color: var(--fill-color);\n",
              "    }\n",
              "    40% {\n",
              "      border-color: transparent;\n",
              "      border-right-color: var(--fill-color);\n",
              "      border-top-color: var(--fill-color);\n",
              "    }\n",
              "    60% {\n",
              "      border-color: transparent;\n",
              "      border-right-color: var(--fill-color);\n",
              "    }\n",
              "    80% {\n",
              "      border-color: transparent;\n",
              "      border-right-color: var(--fill-color);\n",
              "      border-bottom-color: var(--fill-color);\n",
              "    }\n",
              "    90% {\n",
              "      border-color: transparent;\n",
              "      border-bottom-color: var(--fill-color);\n",
              "    }\n",
              "  }\n",
              "</style>\n",
              "\n",
              "  <script>\n",
              "    async function quickchart(key) {\n",
              "      const quickchartButtonEl =\n",
              "        document.querySelector('#' + key + ' button');\n",
              "      quickchartButtonEl.disabled = true;  // To prevent multiple clicks.\n",
              "      quickchartButtonEl.classList.add('colab-df-spinner');\n",
              "      try {\n",
              "        const charts = await google.colab.kernel.invokeFunction(\n",
              "            'suggestCharts', [key], {});\n",
              "      } catch (error) {\n",
              "        console.error('Error during call to suggestCharts:', error);\n",
              "      }\n",
              "      quickchartButtonEl.classList.remove('colab-df-spinner');\n",
              "      quickchartButtonEl.classList.add('colab-df-quickchart-complete');\n",
              "    }\n",
              "    (() => {\n",
              "      let quickchartButtonEl =\n",
              "        document.querySelector('#df-452bd5c4-5368-4698-88f0-7221cd0e65c5 button');\n",
              "      quickchartButtonEl.style.display =\n",
              "        google.colab.kernel.accessAllowed ? 'block' : 'none';\n",
              "    })();\n",
              "  </script>\n",
              "</div>\n",
              "    </div>\n",
              "  </div>\n"
            ],
            "application/vnd.google.colaboratory.intrinsic+json": {
              "type": "dataframe",
              "summary": "{\n  \"name\": \"})\",\n  \"rows\": 11,\n  \"fields\": [\n    {\n      \"column\": \"pos\",\n      \"properties\": {\n        \"dtype\": \"number\",\n        \"std\": 3,\n        \"min\": 0,\n        \"max\": 10,\n        \"num_unique_values\": 11,\n        \"samples\": [\n          5,\n          0,\n          9\n        ],\n        \"semantic_type\": \"\",\n        \"description\": \"\"\n      }\n    },\n    {\n      \"column\": \"neg\",\n      \"properties\": {\n        \"dtype\": \"number\",\n        \"std\": 3,\n        \"min\": 0,\n        \"max\": 10,\n        \"num_unique_values\": 10,\n        \"samples\": [\n          2,\n          0,\n          5\n        ],\n        \"semantic_type\": \"\",\n        \"description\": \"\"\n      }\n    },\n    {\n      \"column\": \"p\",\n      \"properties\": {\n        \"dtype\": \"number\",\n        \"std\": 0.33166247903554,\n        \"min\": 0.0,\n        \"max\": 1.0,\n        \"num_unique_values\": 11,\n        \"samples\": [\n          0.5,\n          0.0,\n          0.9\n        ],\n        \"semantic_type\": \"\",\n        \"description\": \"\"\n      }\n    },\n    {\n      \"column\": \"odds\",\n      \"properties\": {\n        \"dtype\": \"number\",\n        \"std\": 2.772927854973672,\n        \"min\": 0.0,\n        \"max\": 9.0,\n        \"num_unique_values\": 10,\n        \"samples\": [\n          4.0,\n          0.11,\n          1.0\n        ],\n        \"semantic_type\": \"\",\n        \"description\": \"\"\n      }\n    },\n    {\n      \"column\": \"log(odds)\",\n      \"properties\": {\n        \"dtype\": \"number\",\n        \"std\": 1.3840791162357737,\n        \"min\": -2.2,\n        \"max\": 2.2,\n        \"num_unique_values\": 9,\n        \"samples\": [\n          1.39,\n          -1.39,\n          0.41\n        ],\n        \"semantic_type\": \"\",\n        \"description\": \"\"\n      }\n    }\n  ]\n}"
            }
          },
          "metadata": {},
          "execution_count": 13
        }
      ]
    },
    {
      "cell_type": "code",
      "source": [
        "log_odds = np.arange(-6, 6, 0.1)\n",
        "p = np.exp(log_odds) / (1 + np.exp(log_odds))\n",
        "\n",
        "plt.plot(log_odds, p)\n",
        "plt.grid()\n",
        "plt.xlim(-6, 6)\n",
        "plt.ylim(-0.1, 1.1)\n",
        "plt.title('Зависимость вероятности от логарифма шансов', fontsize=12)\n",
        "plt.xlabel('log(odds)', fontsize=12)\n",
        "plt.ylabel('p', fontsize=12)\n",
        "\n",
        "plt.show()\n",
        "plt.close()"
      ],
      "metadata": {
        "colab": {
          "base_uri": "https://localhost:8080/",
          "height": 476
        },
        "id": "Hl3VXt-oYaTe",
        "outputId": "943304d5-ee26-4b36-f1ea-9bff26aa0667"
      },
      "execution_count": 14,
      "outputs": [
        {
          "output_type": "display_data",
          "data": {
            "text/plain": [
              "<Figure size 640x480 with 1 Axes>"
            ],
            "image/png": "[encoded data removed]"
          },
          "metadata": {}
        }
      ]
    },
    {
      "cell_type": "markdown",
      "source": [
        "Картинка получше:"
      ],
      "metadata": {
        "id": "BzP-xnpxZRxP"
      }
    },
    {
      "cell_type": "markdown",
      "source": [
        "\n",
        "![image.png](data:image/png;base64,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)"
      ],
      "metadata": {
        "id": "m0dkr_yQY8pG"
      }
    },
    {
      "cell_type": "markdown",
      "source": [
        "Предположим, мы подбросили монетку 100 раз, и 70 раз выпал орел. Чему равняется натуральный логарифм шансов выпадения решки?"
      ],
      "metadata": {
        "id": "s2Pz0mNXZVxA"
      }
    },
    {
      "cell_type": "code",
      "source": [
        "import math\n",
        "math.log(30/70)"
      ],
      "metadata": {
        "colab": {
          "base_uri": "https://localhost:8080/"
        },
        "id": "Bru3RnGhZY_e",
        "outputId": "208b0e21-eec3-45d7-c758-d139c487fc16"
      },
      "execution_count": 15,
      "outputs": [
        {
          "output_type": "execute_result",
          "data": {
            "text/plain": [
              "-0.8472978603872037"
            ]
          },
          "metadata": {},
          "execution_count": 15
        }
      ]
    },
    {
      "cell_type": "markdown",
      "source": [
        "Предположим, что мы получили логарифм шансов выпадения решки, равный -1. Тогда вероятность выпадения решки равняется..."
      ],
      "metadata": {
        "id": "TmZZ0OZQZj0g"
      }
    },
    {
      "cell_type": "code",
      "source": [
        "math.exp(-1) / (1 + math.exp(-1))\n"
      ],
      "metadata": {
        "colab": {
          "base_uri": "https://localhost:8080/"
        },
        "id": "QZZQ8BshZrRh",
        "outputId": "b5c028b1-c618-4328-ae65-bff9a6564ffe"
      },
      "execution_count": 16,
      "outputs": [
        {
          "output_type": "execute_result",
          "data": {
            "text/plain": [
              "0.2689414213699951"
            ]
          },
          "metadata": {},
          "execution_count": 16
        }
      ]
    },
    {
      "cell_type": "markdown",
      "source": [
        "# Модель без предикторов (Intercept only model)"
      ],
      "metadata": {
        "id": "nfQo4boRZ8V9"
      }
    },
    {
      "cell_type": "markdown",
      "source": [
        "\\begin{equation}\n",
        "\\log(\\text{odds}) = B_0 + B_1 x_1 + B_2 x_2 + \\ldots + B_k x_k\n",
        "\\end{equation}"
      ],
      "metadata": {
        "id": "1Aq8Cw-EaHL4"
      }
    },
    {
      "cell_type": "markdown",
      "source": [
        "Модель без предикторов описывается уравнением: y = intercept (одному числу, без предикторов)\n",
        "\n",
        "Intercept - натуральный логарифм шансов положительного исхода. И свободный член логистической регресии.\n",
        "\n",
        "Т.е. мы хотим предсказать логарифм шансов, используя только одно число: log( p/(1-p) ) = intercept\n",
        "\n",
        "\n",
        "H0: Нет никакой разницы между исходом №1 и исходом №2 и нормальное распределение описывает распределение коэффициентов логистической регрессии:\n",
        "\n",
        "p = 1 - p;\n",
        "odds = 1;\n",
        "Логарифм шансов logit(p) = 0 , т.е. logit(p) (он же intercept) имеет нормальное распределение со средним равным 0"
      ],
      "metadata": {
        "id": "TNbn_MkYaZyd"
      }
    },
    {
      "cell_type": "code",
      "source": [],
      "metadata": {
        "id": "NcTV7BsUWf98"
      },
      "execution_count": null,
      "outputs": []
    },
    {
      "cell_type": "code",
      "source": [
        "print(\"Артем\")"
      ],
      "metadata": {
        "id": "uDSg0QjifWz4",
        "outputId": "7949487f-a466-4932-f1d7-f6a8ede7270c",
        "colab": {
          "base_uri": "https://localhost:8080/"
        }
      },
      "execution_count": null,
      "outputs": [
        {
          "output_type": "stream",
          "name": "stdout",
          "text": [
            "Артем\n"
          ]
        }
      ]
    },
    {
      "cell_type": "code",
      "source": [],
      "metadata": {
        "id": "Ux2Xi2f5IBHT"
      },
      "execution_count": null,
      "outputs": []
    },
    {
      "cell_type": "markdown",
      "source": [
        "Ильнар"
      ],
      "metadata": {
        "id": "jMkSyvFzAE4y"
      }
    },
    {
      "cell_type": "markdown",
      "source": [
        "#Кластерный анализ и метод главных компонент"
      ],
      "metadata": {
        "id": "4IPqkjwPKlKw"
      }
    },
    {
      "cell_type": "markdown",
      "source": [
        "Мы разберем два метода:\n",
        "Метод K средних и метод главных компонент"
      ],
      "metadata": {
        "id": "xodrGBpGK-NS"
      }
    },
    {
      "cell_type": "markdown",
      "source": [
        "##Зачем они нужны?"
      ],
      "metadata": {
        "id": "ImnwG7bmMzTy"
      }
    },
    {
      "cell_type": "markdown",
      "source": [
        "При помощи кластерного анализа мы научимся существует ли в наших данных подгруппы испытуемых и сколько таких групп. Этот метод также является одним из подходов \"обучением без учителя\"."
      ],
      "metadata": {
        "id": "AnYbCx8yM5fA"
      }
    },
    {
      "cell_type": "code",
      "source": [
        "print(\"Ильнар\")"
      ],
      "metadata": {
        "colab": {
          "base_uri": "https://localhost:8080/"
        },
        "id": "7CtA65AvfQrJ",
        "outputId": "19c8a635-d225-4d28-b429-a7e6132cf1d6"
      },
      "execution_count": null,
      "outputs": [
        {
          "output_type": "stream",
          "name": "stdout",
          "text": [
            "Ильнар\n"
          ]
        }
      ]
    }
  ]
}